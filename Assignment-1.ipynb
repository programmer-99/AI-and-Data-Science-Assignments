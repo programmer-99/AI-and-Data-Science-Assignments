{
 "cells": [
  {
   "cell_type": "code",
   "execution_count": 28,
   "id": "5e993cb3-1a17-4c2e-9b68-c8405908db5a",
   "metadata": {},
   "outputs": [
    {
     "name": "stdin",
     "output_type": "stream",
     "text": [
      "Enter string :  332sdasd#@@#dsa21\n"
     ]
    },
    {
     "name": "stdout",
     "output_type": "stream",
     "text": [
      "Total Digits : 5\n",
      "Total Letters : 8\n",
      "Special Characters : 4\n"
     ]
    }
   ],
   "source": [
    "# 1. Count Digits, Letters, and Special Characters\n",
    "# Ask the user to enter a string. Count how many letters, digits, and special characters it has.\n",
    "# Hint: use isalpha(), isdigit(), and else.\n",
    "\n",
    "user_input = input(\"Enter string : \")\n",
    "count_digits = 0\n",
    "count_letters = 0\n",
    "count_specialChars = 0\n",
    "\n",
    "for a in user_input:\n",
    "    if a.isalpha():\n",
    "        count_letters += 1\n",
    "    elif a.isdigit():\n",
    "        count_digits += 1\n",
    "    elif a!=\" \":\n",
    "        count_specialChars += 1\n",
    "\n",
    "print(f\"Total Digits : {count_digits}\")\n",
    "print(f\"Total Letters : {count_letters}\")\n",
    "print(f\"Special Characters : {count_specialChars}\")"
   ]
  },
  {
   "cell_type": "code",
   "execution_count": 10,
   "id": "a6fb65c1-05d6-4016-8db2-37cc8b66297c",
   "metadata": {},
   "outputs": [
    {
     "name": "stdin",
     "output_type": "stream",
     "text": [
      "Enter the starting number : 1\n",
      "Enter the ending number : 100\n"
     ]
    },
    {
     "name": "stdout",
     "output_type": "stream",
     "text": [
      "Numbers between 1 and 100 divisible by 4 and 6 (but not both)\n",
      "4 6 8 16 18 20 28 30 32 40 42 44 52 54 56 64 66 68 76 78 80 88 90 92 100 "
     ]
    }
   ],
   "source": [
    "# 2. Numbers Divisible by 4 or 6 (But Not Both)\n",
    "# Input a range (start, end) and print numbers divisible by 4 or 6 — but not both.\n",
    "# Hint: use logical operators and, or, not.\n",
    "# Example:\n",
    "# Input → 1, 30\n",
    "# Output → 4, 6, 8, 16, 18, 20, 28, 30\n",
    "\n",
    "start = int(input(\"Enter the starting number :\"))\n",
    "end = int(input(\"Enter the ending number :\"))\n",
    "\n",
    "print(f\"Numbers between {start} and {end} divisible by 4 and 6 (but not both)\")\n",
    "\n",
    "for a in range(start , end+1):\n",
    "    if (a%4==0 or a%6==0) and not (a%4==0 and a%6==0):\n",
    "        print(a ,end=\" \")\n"
   ]
  },
  {
   "cell_type": "code",
   "execution_count": 13,
   "id": "455f0e29-a3ad-43a1-9bc0-45ae6322df85",
   "metadata": {},
   "outputs": [
    {
     "name": "stdin",
     "output_type": "stream",
     "text": [
      "Enter the sentence :  213123\n"
     ]
    },
    {
     "name": "stdout",
     "output_type": "stream",
     "text": [
      "Total upper case letters : 0\n",
      "Total lower case letters : 0\n"
     ]
    }
   ],
   "source": [
    "# 3. Count Uppercase and Lowercase Letters\n",
    "# Input a sentence and count how many characters are uppercase and lowercase.\n",
    "# Hint: use isupper() and islower().\n",
    "\n",
    "sentence = input(\"Enter the sentence : \")\n",
    "upper_case_letters = 0\n",
    "lower_case_letters = 0\n",
    "\n",
    "for a in sentence:\n",
    "    if a.isupper():\n",
    "        upper_case_letters += 1\n",
    "    elif a.islower():\n",
    "        lower_case_letters += 1\n",
    "\n",
    "print(f\"Total upper case letters : {upper_case_letters}\")\n",
    "print(f\"Total lower case letters : {lower_case_letters}\")"
   ]
  },
  {
   "cell_type": "code",
   "execution_count": 17,
   "id": "f3b88e41-0894-45c4-99c5-91433acf3949",
   "metadata": {},
   "outputs": [
    {
     "name": "stdin",
     "output_type": "stream",
     "text": [
      "Enter a word :  satisfication\n"
     ]
    },
    {
     "name": "stdout",
     "output_type": "stream",
     "text": [
      "Word after replacing vowels with '*' : s*t*sf*c*t**n\n"
     ]
    }
   ],
   "source": [
    "# 4. Replace Vowels with ‘*’\n",
    "# Ask for a word and print it again, but every vowel (a, e, i, o, u) should be replaced with *.\n",
    "# Example: \"education\" → \"*d*c*t**n\"\n",
    "\n",
    "word = input(\"Enter a word : \")\n",
    "vowels = \"aeiouAEIOU\"\n",
    "new_word = ''\n",
    "for a in word:\n",
    "    if a in vowels:\n",
    "        new_word += '*'\n",
    "    else:\n",
    "        new_word += a\n",
    "print(f\"Word after replacing vowels with '*' : {new_word}\")"
   ]
  },
  {
   "cell_type": "code",
   "execution_count": 18,
   "id": "2bae1b8f-fa88-4577-9904-59e8e0ebfd1e",
   "metadata": {},
   "outputs": [
    {
     "name": "stdin",
     "output_type": "stream",
     "text": [
      "Enter string :  weqwe393939sdasd33993@##dsds2232\n"
     ]
    },
    {
     "name": "stdout",
     "output_type": "stream",
     "text": [
      "Total numbers sum which a present in string which is given by user : 72\n"
     ]
    }
   ],
   "source": [
    "# 5. Find Sum of Numbers Entered in a String\n",
    "# Input a string that contains letters and numbers mixed (like \"a1b2c3\") and find the sum of digits inside it.\n",
    "# Example: \"a1b2c3\" → 6\n",
    "\n",
    "user_input = input(\"Enter string : \")\n",
    "sum_numbers = 0\n",
    "for a in user_input:\n",
    "    if a.isdigit():\n",
    "        sum_numbers += int(a)\n",
    "print(f\"Total numbers sum which a present in string which is given by user : {sum_numbers}\")"
   ]
  },
  {
   "cell_type": "code",
   "execution_count": 19,
   "id": "ebb66d21-123d-4ccb-b907-810c125d34c4",
   "metadata": {},
   "outputs": [
    {
     "name": "stdin",
     "output_type": "stream",
     "text": [
      "Enter a sentence:   An apple is on the table\n"
     ]
    },
    {
     "name": "stdout",
     "output_type": "stream",
     "text": [
      "Words starting with a vowel: 4\n"
     ]
    }
   ],
   "source": [
    "# 6. Count Words Starting with a Vowel\n",
    "# Input a sentence and count how many words begin with a vowel.\n",
    "# Example: \"An apple is on the table\" → 3\n",
    "\n",
    "sentence = input(\"Enter a sentence: \")\n",
    "\n",
    "words = sentence.split()\n",
    "vowels = \"aeiouAEIOU\"\n",
    "vowel_start_count = 0\n",
    "\n",
    "for word in words:\n",
    "    if word[0] in vowels:\n",
    "        vowel_start_count += 1\n",
    "print(\"Words starting with a vowel:\", vowel_start_count)\n"
   ]
  },
  {
   "cell_type": "code",
   "execution_count": 27,
   "id": "7f2786e6-e6da-4446-8783-aca412328e66",
   "metadata": {},
   "outputs": [
    {
     "name": "stdin",
     "output_type": "stream",
     "text": [
      "Enter the starting number:  1\n",
      "Enter the ending number:  100\n"
     ]
    },
    {
     "name": "stdout",
     "output_type": "stream",
     "text": [
      "Numbers between 1 and 100 with even digit sums:\n",
      "2 4 6 8 11 13 15 17 19 20 22 24 26 28 31 33 35 37 39 40 42 44 46 48 51 53 55 57 59 60 62 64 66 68 71 73 75 77 79 80 82 84 86 88 91 93 95 97 99 "
     ]
    }
   ],
   "source": [
    "# 7. Display Numbers with Sum of Digits Even\n",
    "# Ask for a range (start, end) and print only those numbers whose sum of digits is even.\n",
    "# Example: Between 10–30 → prints numbers like 11 (1+1=2), 13 (1+3=4), etc.\n",
    "\n",
    "start = int(input(\"Enter the starting number: \"))\n",
    "end = int(input(\"Enter the ending number: \"))\n",
    "\n",
    "print(f\"Numbers between {start} and {end} with even digit sums:\")\n",
    "\n",
    "for a in range(start, end + 1):\n",
    "    # Find sum of digits\n",
    "    digit_sum = sum(int(d) for d in str(a))\n",
    "    if digit_sum % 2 == 0:\n",
    "        print(a, end=\" \")"
   ]
  },
  {
   "cell_type": "code",
   "execution_count": 22,
   "id": "715fe099-17d6-43c7-b55b-376672fd8bab",
   "metadata": {},
   "outputs": [
    {
     "name": "stdin",
     "output_type": "stream",
     "text": [
      "Enter any word or sentence:  applr\n"
     ]
    },
    {
     "name": "stdout",
     "output_type": "stream",
     "text": [
      "Character frequencies:\n",
      "a: 1\n",
      "l: 1\n",
      "p: 2\n",
      "r: 1\n"
     ]
    }
   ],
   "source": [
    "# 8. Character Frequency (Sorted)\n",
    "# Input a string and print each unique character with its count, sorted alphabetically.\n",
    "# Example: \"banana\" →\n",
    "# a: 3\n",
    "# b: 1\n",
    "# n: 2\n",
    "\n",
    "text = input(\"Enter any word or sentence: \")\n",
    "freq = {}\n",
    "\n",
    "for a in text:\n",
    "    if a != \" \":\n",
    "        freq[a] = freq.get(a, 0) + 1\n",
    "\n",
    "print(\"Character frequencies:\")\n",
    "for b in sorted(freq.keys()):\n",
    "    print(f\"{b}: {freq[b]}\")"
   ]
  },
  {
   "cell_type": "code",
   "execution_count": 26,
   "id": "dfada48c-e36f-46c3-b8f3-d012025e3001",
   "metadata": {},
   "outputs": [
    {
     "name": "stdin",
     "output_type": "stream",
     "text": [
      "Enter the starting number:  1\n",
      "Enter the ending number:  100\n"
     ]
    },
    {
     "name": "stdout",
     "output_type": "stream",
     "text": [
      "Numbers between 1 and 100 that contain digit 3:\n",
      "100 100 100 100 100 100 100 100 100 100 100 100 100 100 100 100 100 100 100 "
     ]
    }
   ],
   "source": [
    "# 9. Numbers Having 3 as a Digit\n",
    "# Ask the user for start and end, and print all numbers that contain the digit 3.\n",
    "# Example: 1–40 → 3, 13, 23, 30–39\n",
    "\n",
    "start = int(input(\"Enter the starting number: \"))\n",
    "end = int(input(\"Enter the ending number: \"))\n",
    "\n",
    "print(f\"Numbers between {start} and {end} that contain digit 3:\")\n",
    "\n",
    "for a in range(start, end + 1):\n",
    "    if '3' in str(a):\n",
    "        print(num, end=\" \")"
   ]
  },
  {
   "cell_type": "code",
   "execution_count": 25,
   "id": "62525145-c617-4120-89aa-0a5b694f648c",
   "metadata": {},
   "outputs": [
    {
     "name": "stdin",
     "output_type": "stream",
     "text": [
      "Enter the starting number:  1\n",
      "Enter the ending number:  100\n"
     ]
    },
    {
     "name": "stdout",
     "output_type": "stream",
     "text": [
      "Numbers that match all conditions:\n",
      "16 30 32 52 56 76 78 92 100 "
     ]
    }
   ],
   "source": [
    "# 10. Complex Divisibility with Digit Logic\n",
    "# Ask the user for two integers: start and end.\n",
    "# Using a for loop, print all numbers in that range that satisfy all these conditions:\n",
    "# The number is divisible by 4 or 6 (but not both)\n",
    "# The sum of its digits is odd\n",
    "# The number is not divisible by 9\n",
    "# Example:\n",
    "# Input → start = 10, end = 100\n",
    "# Output → 12, 16, 20, 24, 28, 32, 36, 40, 44, 52, 56, 60, 64, 68, 72, 76, 80, 84, 88, 92, 96, 100\n",
    "\n",
    "start = int(input(\"Enter the starting number: \"))\n",
    "end = int(input(\"Enter the ending number: \"))\n",
    "\n",
    "print(\"Numbers that match all conditions:\")\n",
    "\n",
    "for a in range(start, end + 1):\n",
    "    div_condition = (a % 4 == 0 or a % 6 == 0) and not (a % 4 == 0 and a % 6 == 0)\n",
    "    digit_sum = sum(int(d) for d in str(a))\n",
    "    odd_sum = digit_sum % 2 != 0\n",
    "    not_divisible_by_9 = a % 9 != 0\n",
    "\n",
    "    if div_condition and odd_sum and not_divisible_by_9:\n",
    "        print(a, end=\" \")"
   ]
  },
  {
   "cell_type": "code",
   "execution_count": null,
   "id": "7ef874a4-7487-4030-bcab-8b06ff4fb555",
   "metadata": {},
   "outputs": [],
   "source": []
  }
 ],
 "metadata": {
  "kernelspec": {
   "display_name": "Python [conda env:base] *",
   "language": "python",
   "name": "conda-base-py"
  },
  "language_info": {
   "codemirror_mode": {
    "name": "ipython",
    "version": 3
   },
   "file_extension": ".py",
   "mimetype": "text/x-python",
   "name": "python",
   "nbconvert_exporter": "python",
   "pygments_lexer": "ipython3",
   "version": "3.13.5"
  }
 },
 "nbformat": 4,
 "nbformat_minor": 5
}
